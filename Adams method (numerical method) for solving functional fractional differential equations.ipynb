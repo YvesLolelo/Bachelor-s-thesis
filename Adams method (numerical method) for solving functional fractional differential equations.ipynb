{
 "cells": [
  {
   "cell_type": "code",
   "execution_count": 1,
   "metadata": {},
   "outputs": [],
   "source": [
    "#The Euler method for functional fractional Differential equations\n",
    "\n",
    "import numpy as np\n",
    "import matplotlib.pyplot as plt\n",
    "from scipy.special import gamma, factorial\n",
    "from numpy import *\n",
    "from scipy.linalg import norm\n",
    "import time"
   ]
  },
  {
   "cell_type": "code",
   "execution_count": 2,
   "metadata": {},
   "outputs": [],
   "source": [
    "def initFun(s):\n",
    "    \"\"\"This function calculates initial function and is used to fulfill\n",
    "    the first (presely, zero) time layer in the grid solution aray\n",
    "    \"\"\"\n",
    "    # y(0) = 1\n",
    "    res = s ** 5 + 3 * s ** 4 - 2 * s ** 3\n",
    "    return res"
   ]
  },
  {
   "cell_type": "code",
   "execution_count": 3,
   "metadata": {},
   "outputs": [],
   "source": [
    "def exactSolution(t):\n",
    "    \"\"\"This function calculates the exact solution,\n",
    "    it is used to estimate the error\n",
    "    \"\"\"\n",
    "    res = t ** 5 + 3 * t ** 4 - 2 * t ** 3\n",
    "    return res"
   ]
  },
  {
   "cell_type": "code",
   "execution_count": 4,
   "metadata": {},
   "outputs": [],
   "source": [
    "# Coefficient of the Adams'method: a_{j, i + 1}\n",
    "\n",
    "def a_k_j(n,k, alfa):\n",
    "    if k == n+1:\n",
    "        return 1\n",
    "    elif k == 0:\n",
    "        return n**(alfa + 1) - (n - alfa)*(n + 1)**(alfa)\n",
    "    else:\n",
    "        return (n - k + 2)**(alfa + 1) + (n - k)**(alfa + 1) - 2*(n - k +1)**(alfa + 1)"
   ]
  },
  {
   "cell_type": "code",
   "execution_count": 5,
   "metadata": {},
   "outputs": [],
   "source": [
    "def b_k_j(n,k, alfa):\n",
    "    return (n - k + 1) ** alfa - (n - k) ** alfa"
   ]
  },
  {
   "cell_type": "code",
   "execution_count": 6,
   "metadata": {},
   "outputs": [],
   "source": [
    "def kernalFun(s):\n",
    "    return 1"
   ]
  },
  {
   "cell_type": "code",
   "execution_count": 7,
   "metadata": {},
   "outputs": [],
   "source": [
    "def Fun(t, y, y_delaed, tau, alfa):\n",
    "    res = gamma(6) * (t ** (5 - alfa)) / gamma(6 - alfa) + \\\n",
    "          3 * gamma(5) * (t ** (4 - alfa)) / gamma(5 - alfa) - \\\n",
    "          2 * gamma(4) * (t ** (3 - alfa)) / gamma(4 - alfa) + (t ** 5 + 3 * t ** 4 - 2 * t ** 3) ** 2 - \\\n",
    "          (1/6)*(t**6 - (t - tau)**6) - (3/5)*(t**5 - (t - tau)**5) + (1/2)*(t**4 - (t - tau)**4) + y_delaed - y ** 2\n",
    "    return res"
   ]
  },
  {
   "cell_type": "code",
   "execution_count": 8,
   "metadata": {},
   "outputs": [],
   "source": [
    "def tau(t):\n",
    "    return (0.02)*np.exp(-t)"
   ]
  },
  {
   "cell_type": "code",
   "execution_count": 9,
   "metadata": {},
   "outputs": [],
   "source": [
    "def moo(t,tStep, dellta):\n",
    "    return int((0.02)*np.exp(-t)/(tStep))"
   ]
  },
  {
   "cell_type": "code",
   "execution_count": 81,
   "metadata": {},
   "outputs": [
    {
     "name": "stdout",
     "output_type": "stream",
     "text": [
      "Time domain [0.000000; 2.000000]\n",
      "Number of subsegments in Time 20.000000\n",
      "Time step 0.100000\n",
      "0.01503133773803711\n",
      "Error norm = 5.957040E-02\n"
     ]
    },
    {
     "data": {
      "image/png": "[encoded data removed]",
      "text/plain": [
       "<Figure size 432x288 with 1 Axes>"
      ]
     },
     "metadata": {
      "needs_background": "light"
     },
     "output_type": "display_data"
    }
   ],
   "source": [
    "alfa = 0.9\n",
    "\n",
    "tInit = 0  # tInit - initial time\n",
    "tFinal = 2  # tFinal - final time\n",
    "numberOfSegm_t = 20  # numSeg - number of subsegments in segment [tInint, tFinal]\n",
    "epsNewton = 10 ** (-4)\n",
    "tau = 0.5\n",
    "y0 = 0\n",
    "\n",
    "dellta = 0\n",
    "\n",
    "print(\"Time domain [%f; %f]\" % (tInit, tFinal))\n",
    "print(\"Number of subsegments in Time %f\" % numberOfSegm_t)\n",
    "tStep = (tFinal - tInit) / numberOfSegm_t\n",
    "timeGrid = linspace(tInit, tFinal, numberOfSegm_t + 1)\n",
    "print(\"Time step %f\" % tStep)\n",
    "m = int(tau / tStep)\n",
    "y = zeros(numberOfSegm_t + 1)\n",
    "y_n = zeros(numberOfSegm_t + 1)\n",
    "y_e = zeros(numberOfSegm_t + 1)\n",
    "FiInvariant = zeros(numberOfSegm_t + 1)\n",
    "\n",
    "\n",
    "y_n[0] = initFun(tInit)\n",
    "\n",
    "startTime = time.time()\n",
    "for i in range(numberOfSegm_t - 1, -1, -1):\n",
    "    converged = False\n",
    "    y_delayed = 0\n",
    "    # Extrapolation and calculation of functional delay\n",
    "    if i == 0:\n",
    "        # Extrapolation by the prehistory\n",
    "        uExtrap = 1.5 * y_n[0] - 0.5 * initFun(-tStep)\n",
    "        if tau < tStep:\n",
    "            uDelFin = y_n[0] + (tStep - tau) * (y_n[0] - initFun(-tStep)) / tStep\n",
    "            tDelFin = tStep - tau  # time Delay Finish\n",
    "        else:\n",
    "            uDelFin = y_n[0]\n",
    "            tDelFin = tStep\n",
    "    else:\n",
    "        # Extrapolation by the grid\n",
    "        uExtrap = 1.5 * y_n[i] - 0.5 * y_n[i - 1]\n",
    "        if tau < tStep:\n",
    "            uDelFin = y_n[i] + (tStep - tau) * (\n",
    "                    y_n[i] - y_n[i - 1]) / tStep\n",
    "            tDelFin = tStep - tau  # time Delay Finish\n",
    "        else:\n",
    "            uDelFin = y_n[i]\n",
    "            tDelFin = tStep\n",
    "    y_delayed += (kernalFun(0) * uExtrap + kernalFun(-tDelFin) * uDelFin) * tDelFin\n",
    "    #FiInvariant1[i] = Fun(timeGrid[i], uExtrap, y_delayed, tau, alfa)\n",
    "\n",
    "    # calculation of functional delay inteher tSteps\n",
    "    sBuf = 0\n",
    "    # in the grid\n",
    "    for q in range(0, min(i, m)):\n",
    "        sBuf += kernalFun(-tStep - q * tStep) * (y_n[i - q]) + kernalFun(\n",
    "            -tStep - (q + 1) * tStep) * (y_n[i - q - 1])\n",
    "    # in the prehistory\n",
    "    for q in range(min(i, m), m):\n",
    "        sBuf += kernalFun(-tStep - q * tStep) * (\n",
    "            initFun((i - q) * tStep)) + kernalFun(-tStep - (q + 1) * tStep) * (\n",
    "            initFun((i - q - 1) * tStep))\n",
    "    y_delayed += sBuf * tStep\n",
    "\n",
    "    # calculation of functional delay in the \"tail\"\n",
    "    if i - m > 0:\n",
    "        segPart = tau / tStep - m\n",
    "        \n",
    "        uTail = y_n[i - m] * (1 - segPart) + y_n[i - m - 1] * segPart\n",
    "        y_delayed += (kernalFun(-tStep - m * tStep) * (\n",
    "            y_n[i - m]) + kernalFun(-tau) * uTail) * (\n",
    "                              tau * tStep - m * tStep)\n",
    "    else:\n",
    "        uTail = initFun(i * tStep - tau)\n",
    "        y_delayed += (kernalFun(-tStep - m * tStep) * (\n",
    "            initFun((i - m) * tStep)) + kernalFun(-tau) * uTail) * (\n",
    "                              tau * tStep - m * tStep)\n",
    "    FiInvariant[i] = Fun(timeGrid[i],y[i], y_delayed, tau, alfa)\n",
    "    \n",
    "    r = 0\n",
    "    while not converged:\n",
    "        r += 1\n",
    "        #Corrector\n",
    "        y[i + 1] = y0 + (tStep ** alfa) * sum(\n",
    "            [(1 / (gamma(alfa + 2))) * ( a_k_j(i,j, alfa)) * (\n",
    "                FiInvariant[j]) for j in range(0, i + 1)]) + ((tStep ** alfa) / (gamma(alfa + 1)))*Fun(timeGrid[i+1], uExtrap , y_delayed, tau, alfa)\n",
    "        \n",
    "        converged = np.abs(y - y_n).max() < epsNewton or r >= 100\n",
    "\n",
    "        y_n = copy(y)\n",
    "        # Update y_n before next step\n",
    "    y_n, y = y, y_n\n",
    "    y_e[i+1] = exactSolution(timeGrid[i+1])\n",
    "    diff = abs(y[i+1] - y_e[i+1]).max()\n",
    "              \n",
    "endTime = time.time()\n",
    "print(endTime - startTime)\n",
    "print(\"Error norm = %E\" % diff)\n",
    "plt.plot(timeGrid, y_e, 'blue')\n",
    "plt.plot(timeGrid, y, 'r')\n",
    "plt.show()"
   ]
  },
  {
   "cell_type": "code",
   "execution_count": 11,
   "metadata": {},
   "outputs": [],
   "source": [
    "# Adams method for functional fractional differential equations\n",
    "\n",
    "import math"
   ]
  },
  {
   "cell_type": "code",
   "execution_count": 15,
   "metadata": {},
   "outputs": [
    {
     "name": "stdout",
     "output_type": "stream",
     "text": [
      "Time domain [0.000000; 2.000000]\n",
      "Number of subsegments in Time 80.000000\n",
      "Time step 0.025000\n",
      "0.09762167930603027\n",
      "Error norm = 5.298640E-02\n"
     ]
    },
    {
     "data": {
      "image/png": "[encoded data removed]",
      "text/plain": [
       "<Figure size 432x288 with 1 Axes>"
      ]
     },
     "metadata": {
      "needs_background": "light"
     },
     "output_type": "display_data"
    }
   ],
   "source": [
    "alfa = 0.1\n",
    "tInit = 0.  # tInit - initial time\n",
    "tFinal = 2.  # tFinal - final time\n",
    "numberOfSegm_t = 80  # numSeg - number of subsegments in segment [tInint, tFinal]\n",
    "epsNewton = 10 ** (-4)\n",
    "tau = 0.5\n",
    "y0 = 0\n",
    "\n",
    "print(\"Time domain [%f; %f]\" % (tInit, tFinal))\n",
    "print(\"Number of subsegments in Time %f\" % numberOfSegm_t)\n",
    "tStep = (tFinal - tInit) / numberOfSegm_t\n",
    "timeGrid = linspace(tInit, tFinal, numberOfSegm_t + 1)\n",
    "print(\"Time step %f\" % tStep)\n",
    "m = int(tau / tStep)\n",
    "y = zeros(numberOfSegm_t + 1)\n",
    "y_n = zeros(numberOfSegm_t + 1)\n",
    "y_e = zeros(numberOfSegm_t + 1)\n",
    "FiInvariant = zeros(numberOfSegm_t + 1)\n",
    "\n",
    "\n",
    "y_n[0] = initFun(tInit)\n",
    "\n",
    "startTime = time.time()\n",
    "for i in range(numberOfSegm_t - 1, -1, -1):\n",
    "    converged = False\n",
    "    y_delayed = 0\n",
    "    y_delayed_1 = 0\n",
    "    # Extrapolation and calculation of functional delay\n",
    "    if i == 0:\n",
    "        # Extrapolation by the prehistory\n",
    "        uExtrap = 1.5 * y_n[0] - 0.5 * initFun(-tStep)\n",
    "        if tau < tStep:\n",
    "            uDelFin = y_n[0] + (tStep - tau) * (y_n[0] - initFun(-tStep)) / tStep\n",
    "            tDelFin = tStep - tau  # time Delay Finish\n",
    "        else:\n",
    "            uDelFin = y_n[0]\n",
    "            tDelFin = tStep\n",
    "    else:\n",
    "        # Extrapolation by the grid\n",
    "        uExtrap = 1.5 * y_n[i] - 0.5 * y_n[i - 1]\n",
    "        if tau < tStep:\n",
    "            uDelFin = y_n[i] + (tStep - tau) * (\n",
    "                    y_n[i] - y_n[i - 1]) / tStep\n",
    "            tDelFin = tStep - tau  # time Delay Finish\n",
    "        else:\n",
    "            uDelFin = y_n[i]\n",
    "            tDelFin = tStep\n",
    "    y_delayed_1 += (kernalFun(0) * uExtrap + kernalFun(-tDelFin) * uDelFin) * tDelFin\n",
    "    #FiInvariant1[i] = Fun(timeGrid[i], uExtrap, y_delayed, tau, alfa)\n",
    "\n",
    "    # calculation of functional delay inteher tSteps\n",
    "    sBuf = 0\n",
    "    # in the grid\n",
    "    for q in range(0, min(i, m)):\n",
    "        sBuf += kernalFun(-tStep - q * tStep) * (y_n[i - q]) + kernalFun(\n",
    "            -tStep - (q + 1) * tStep) * (y_n[i - q - 1])\n",
    "    # in the prehistory\n",
    "    for q in range(min(i, m), m):\n",
    "        sBuf += kernalFun(-tStep - q * tStep) * (\n",
    "            initFun((i - q) * tStep)) + kernalFun(-tStep - (q + 1) * tStep) * (\n",
    "            initFun((i - q - 1) * tStep))\n",
    "    y_delayed += sBuf * tStep\n",
    "\n",
    "    # calculation of functional delay in the \"tail\"\n",
    "    if i - m > 0:\n",
    "        segPart = tau / tStep - m\n",
    "        \n",
    "        uTail = y_n[i - m] * (1 - segPart) + y_n[i - m - 1] * segPart\n",
    "        y_delayed += (kernalFun(-tStep - m * tStep) * (\n",
    "            y_n[i - m]) + kernalFun(-tau) * uTail) * (\n",
    "                              tau * tStep - m * tStep)\n",
    "    else:\n",
    "        uTail = initFun(i * tStep - tau)\n",
    "        y_delayed += (kernalFun(-tStep - m * tStep) * (\n",
    "            initFun((i - m) * tStep)) + kernalFun(-tau) * uTail) * (\n",
    "                              tau * tStep - m * tStep)\n",
    "    FiInvariant[i] = Fun(timeGrid[i],y[i], y_delayed, tau, alfa)\n",
    "    \n",
    "\n",
    "    r = 0\n",
    "    while not converged:\n",
    "        r += 1\n",
    "           \n",
    "        #Corrector\n",
    "        y[i + 1] = y0 + (tStep ** alfa) * sum(\n",
    "            [(1 / (gamma(alfa + 1))) * ( a_k_j(i,j, alfa)) * (\n",
    "                FiInvariant[j]) for j in range(0, i + 1)]) + ((tStep ** alfa) / (gamma(alfa + 1)))*Fun(timeGrid[i+1], uExtrap , y_delayed_1, tau, alfa)\n",
    "        \n",
    "        converged = np.abs(y - y_n).max() < epsNewton or r >= 100\n",
    "\n",
    "        y_n = copy(y)\n",
    "        # Update y_n before next step\n",
    "    y_n, y = y, y_n\n",
    "    y_e[i+1] = exactSolution(timeGrid[i+1])\n",
    "    diff = abs(y[i+1] - y_e[i+1]).max()\n",
    "              \n",
    "endTime = time.time()\n",
    "print(endTime - startTime)\n",
    "print(\"Error norm = %E\" % diff)\n",
    "plt.plot(timeGrid, y_e, 'blue')\n",
    "plt.plot(timeGrid, y, 'r')\n",
    "plt.show()"
   ]
  }
 ],
 "metadata": {
  "kernelspec": {
   "display_name": "Python 3 (ipykernel)",
   "language": "python",
   "name": "python3"
  },
  "language_info": {
   "codemirror_mode": {
    "name": "ipython",
    "version": 3
   },
   "file_extension": ".py",
   "mimetype": "text/x-python",
   "name": "python",
   "nbconvert_exporter": "python",
   "pygments_lexer": "ipython3",
   "version": "3.11.5"
  }
 },
 "nbformat": 4,
 "nbformat_minor": 2
}
